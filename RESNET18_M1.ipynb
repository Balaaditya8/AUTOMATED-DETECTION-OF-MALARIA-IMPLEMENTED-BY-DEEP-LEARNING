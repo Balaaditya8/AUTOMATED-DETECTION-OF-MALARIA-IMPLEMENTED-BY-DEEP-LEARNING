{
 "cells": [
  {
   "cell_type": "markdown",
   "id": "a01b268e",
   "metadata": {},
   "source": [
    "# RESNET18 - NO MODIFICATION"
   ]
  },
  {
   "cell_type": "code",
   "execution_count": 1,
   "id": "09a31d5e",
   "metadata": {},
   "outputs": [],
   "source": [
    "import numpy as np\n",
    "from glob import glob\n",
    "import matplotlib.pyplot as plt\n",
    "import torch\n",
    "import torch.nn as nn\n",
    "from torchsummary import summary\n",
    "from torchvision import datasets,models,transforms as T\n",
    "#from efficientnet_pytorch import EfficientNet\n",
    "import os\n",
    "import torch.optim as optim\n",
    "from PIL import ImageFile\n",
    "from sklearn.metrics import accuracy_score"
   ]
  },
  {
   "cell_type": "code",
   "execution_count": 2,
   "id": "621cc2f2",
   "metadata": {
    "scrolled": false
   },
   "outputs": [
    {
     "name": "stdout",
     "output_type": "stream",
     "text": [
      "True\n"
     ]
    }
   ],
   "source": [
    "use_gpu = torch.backends.mps.is_available()\n",
    "print(str(use_gpu))"
   ]
  },
  {
   "cell_type": "code",
   "execution_count": null,
   "id": "72a5cce5",
   "metadata": {},
   "outputs": [],
   "source": [
    "##### USE THIS IF USING COLAB OR WINDOWS :)\n",
    "#use_gpu = torch.cuda.is_available()\n",
    "#print(str(use_gpu))"
   ]
  },
  {
   "cell_type": "code",
   "execution_count": 3,
   "id": "e40421c7",
   "metadata": {},
   "outputs": [],
   "source": [
    "batch_size = 16\n",
    "\n",
    "img_transforms = {\n",
    "    'train':\n",
    "    T.Compose([\n",
    "        T.Resize(size=(224,224)), \n",
    "        T.ToTensor(),\n",
    "        T.Normalize([0.5, 0.5, 0.5], [0.5, 0.5, 0.5]), \n",
    "        ]),\n",
    "\n",
    "    'test':\n",
    "    T.Compose([\n",
    "        T.Resize(size=(224,224)),\n",
    "        T.ToTensor(),\n",
    "        T.Normalize([0.5, 0.5, 0.5], [0.5, 0.5, 0.5])\n",
    "        ]),\n",
    "     }\n",
    "\n",
    "data='./data/'\n",
    "\n",
    "train_path=os.path.join(data,'train')\n",
    "test_path=os.path.join(data,'test')\n",
    "\n",
    "train_file=datasets.ImageFolder(train_path,transform=img_transforms['train'])\n",
    "test_file=datasets.ImageFolder(test_path,transform=img_transforms['test'])\n",
    "\n",
    "loaders_transfer={\n",
    "    'train':torch.utils.data.DataLoader(train_file,batch_size,shuffle=True),\n",
    "    'test': torch.utils.data.DataLoader(test_file,batch_size,shuffle=True)\n",
    "}"
   ]
  },
  {
   "cell_type": "code",
   "execution_count": null,
   "id": "7eef49f1",
   "metadata": {},
   "outputs": [],
   "source": []
  },
  {
   "cell_type": "code",
   "execution_count": 4,
   "id": "6f468779",
   "metadata": {},
   "outputs": [
    {
     "name": "stderr",
     "output_type": "stream",
     "text": [
      "/Users/bala/ML/apple-tf-torch/torch/env/lib/python3.8/site-packages/torchvision/models/_utils.py:208: UserWarning: The parameter 'pretrained' is deprecated since 0.13 and may be removed in the future, please use 'weights' instead.\n",
      "  warnings.warn(\n",
      "/Users/bala/ML/apple-tf-torch/torch/env/lib/python3.8/site-packages/torchvision/models/_utils.py:223: UserWarning: Arguments other than a weight enum or `None` for 'weights' are deprecated since 0.13 and may be removed in the future. The current behavior is equivalent to passing `weights=ResNet18_Weights.IMAGENET1K_V1`. You can also use `weights=ResNet18_Weights.DEFAULT` to get the most up-to-date weights.\n",
      "  warnings.warn(msg)\n"
     ]
    }
   ],
   "source": [
    "model_transfer=models.resnet18(pretrained=True)\n",
    "for param in model_transfer.parameters():\n",
    "    param.requires_grad = False   \n",
    "    \n",
    "num_ftrs = model_transfer.fc.in_features\n",
    "model_transfer.fc=nn.Linear(num_ftrs, 128)"
   ]
  },
  {
   "cell_type": "code",
   "execution_count": 5,
   "id": "58ec135a",
   "metadata": {},
   "outputs": [],
   "source": [
    "mps_device = torch.device(\"mps\")"
   ]
  },
  {
   "cell_type": "code",
   "execution_count": 6,
   "id": "644fb6ff",
   "metadata": {},
   "outputs": [
    {
     "data": {
      "text/plain": [
       "ResNet(\n",
       "  (conv1): Conv2d(3, 64, kernel_size=(7, 7), stride=(2, 2), padding=(3, 3), bias=False)\n",
       "  (bn1): BatchNorm2d(64, eps=1e-05, momentum=0.1, affine=True, track_running_stats=True)\n",
       "  (relu): ReLU(inplace=True)\n",
       "  (maxpool): MaxPool2d(kernel_size=3, stride=2, padding=1, dilation=1, ceil_mode=False)\n",
       "  (layer1): Sequential(\n",
       "    (0): BasicBlock(\n",
       "      (conv1): Conv2d(64, 64, kernel_size=(3, 3), stride=(1, 1), padding=(1, 1), bias=False)\n",
       "      (bn1): BatchNorm2d(64, eps=1e-05, momentum=0.1, affine=True, track_running_stats=True)\n",
       "      (relu): ReLU(inplace=True)\n",
       "      (conv2): Conv2d(64, 64, kernel_size=(3, 3), stride=(1, 1), padding=(1, 1), bias=False)\n",
       "      (bn2): BatchNorm2d(64, eps=1e-05, momentum=0.1, affine=True, track_running_stats=True)\n",
       "    )\n",
       "    (1): BasicBlock(\n",
       "      (conv1): Conv2d(64, 64, kernel_size=(3, 3), stride=(1, 1), padding=(1, 1), bias=False)\n",
       "      (bn1): BatchNorm2d(64, eps=1e-05, momentum=0.1, affine=True, track_running_stats=True)\n",
       "      (relu): ReLU(inplace=True)\n",
       "      (conv2): Conv2d(64, 64, kernel_size=(3, 3), stride=(1, 1), padding=(1, 1), bias=False)\n",
       "      (bn2): BatchNorm2d(64, eps=1e-05, momentum=0.1, affine=True, track_running_stats=True)\n",
       "    )\n",
       "  )\n",
       "  (layer2): Sequential(\n",
       "    (0): BasicBlock(\n",
       "      (conv1): Conv2d(64, 128, kernel_size=(3, 3), stride=(2, 2), padding=(1, 1), bias=False)\n",
       "      (bn1): BatchNorm2d(128, eps=1e-05, momentum=0.1, affine=True, track_running_stats=True)\n",
       "      (relu): ReLU(inplace=True)\n",
       "      (conv2): Conv2d(128, 128, kernel_size=(3, 3), stride=(1, 1), padding=(1, 1), bias=False)\n",
       "      (bn2): BatchNorm2d(128, eps=1e-05, momentum=0.1, affine=True, track_running_stats=True)\n",
       "      (downsample): Sequential(\n",
       "        (0): Conv2d(64, 128, kernel_size=(1, 1), stride=(2, 2), bias=False)\n",
       "        (1): BatchNorm2d(128, eps=1e-05, momentum=0.1, affine=True, track_running_stats=True)\n",
       "      )\n",
       "    )\n",
       "    (1): BasicBlock(\n",
       "      (conv1): Conv2d(128, 128, kernel_size=(3, 3), stride=(1, 1), padding=(1, 1), bias=False)\n",
       "      (bn1): BatchNorm2d(128, eps=1e-05, momentum=0.1, affine=True, track_running_stats=True)\n",
       "      (relu): ReLU(inplace=True)\n",
       "      (conv2): Conv2d(128, 128, kernel_size=(3, 3), stride=(1, 1), padding=(1, 1), bias=False)\n",
       "      (bn2): BatchNorm2d(128, eps=1e-05, momentum=0.1, affine=True, track_running_stats=True)\n",
       "    )\n",
       "  )\n",
       "  (layer3): Sequential(\n",
       "    (0): BasicBlock(\n",
       "      (conv1): Conv2d(128, 256, kernel_size=(3, 3), stride=(2, 2), padding=(1, 1), bias=False)\n",
       "      (bn1): BatchNorm2d(256, eps=1e-05, momentum=0.1, affine=True, track_running_stats=True)\n",
       "      (relu): ReLU(inplace=True)\n",
       "      (conv2): Conv2d(256, 256, kernel_size=(3, 3), stride=(1, 1), padding=(1, 1), bias=False)\n",
       "      (bn2): BatchNorm2d(256, eps=1e-05, momentum=0.1, affine=True, track_running_stats=True)\n",
       "      (downsample): Sequential(\n",
       "        (0): Conv2d(128, 256, kernel_size=(1, 1), stride=(2, 2), bias=False)\n",
       "        (1): BatchNorm2d(256, eps=1e-05, momentum=0.1, affine=True, track_running_stats=True)\n",
       "      )\n",
       "    )\n",
       "    (1): BasicBlock(\n",
       "      (conv1): Conv2d(256, 256, kernel_size=(3, 3), stride=(1, 1), padding=(1, 1), bias=False)\n",
       "      (bn1): BatchNorm2d(256, eps=1e-05, momentum=0.1, affine=True, track_running_stats=True)\n",
       "      (relu): ReLU(inplace=True)\n",
       "      (conv2): Conv2d(256, 256, kernel_size=(3, 3), stride=(1, 1), padding=(1, 1), bias=False)\n",
       "      (bn2): BatchNorm2d(256, eps=1e-05, momentum=0.1, affine=True, track_running_stats=True)\n",
       "    )\n",
       "  )\n",
       "  (layer4): Sequential(\n",
       "    (0): BasicBlock(\n",
       "      (conv1): Conv2d(256, 512, kernel_size=(3, 3), stride=(2, 2), padding=(1, 1), bias=False)\n",
       "      (bn1): BatchNorm2d(512, eps=1e-05, momentum=0.1, affine=True, track_running_stats=True)\n",
       "      (relu): ReLU(inplace=True)\n",
       "      (conv2): Conv2d(512, 512, kernel_size=(3, 3), stride=(1, 1), padding=(1, 1), bias=False)\n",
       "      (bn2): BatchNorm2d(512, eps=1e-05, momentum=0.1, affine=True, track_running_stats=True)\n",
       "      (downsample): Sequential(\n",
       "        (0): Conv2d(256, 512, kernel_size=(1, 1), stride=(2, 2), bias=False)\n",
       "        (1): BatchNorm2d(512, eps=1e-05, momentum=0.1, affine=True, track_running_stats=True)\n",
       "      )\n",
       "    )\n",
       "    (1): BasicBlock(\n",
       "      (conv1): Conv2d(512, 512, kernel_size=(3, 3), stride=(1, 1), padding=(1, 1), bias=False)\n",
       "      (bn1): BatchNorm2d(512, eps=1e-05, momentum=0.1, affine=True, track_running_stats=True)\n",
       "      (relu): ReLU(inplace=True)\n",
       "      (conv2): Conv2d(512, 512, kernel_size=(3, 3), stride=(1, 1), padding=(1, 1), bias=False)\n",
       "      (bn2): BatchNorm2d(512, eps=1e-05, momentum=0.1, affine=True, track_running_stats=True)\n",
       "    )\n",
       "  )\n",
       "  (avgpool): AdaptiveAvgPool2d(output_size=(1, 1))\n",
       "  (fc): Linear(in_features=512, out_features=128, bias=True)\n",
       ")"
      ]
     },
     "execution_count": 6,
     "metadata": {},
     "output_type": "execute_result"
    }
   ],
   "source": [
    "model_transfer"
   ]
  },
  {
   "cell_type": "code",
   "execution_count": 7,
   "id": "0f27b614",
   "metadata": {
    "scrolled": false
   },
   "outputs": [
    {
     "name": "stdout",
     "output_type": "stream",
     "text": [
      "==========================================================================================\n",
      "Layer (type:depth-idx)                   Output Shape              Param #\n",
      "==========================================================================================\n",
      "├─Conv2d: 1-1                            [-1, 64, 112, 112]        (9,408)\n",
      "├─BatchNorm2d: 1-2                       [-1, 64, 112, 112]        (128)\n",
      "├─ReLU: 1-3                              [-1, 64, 112, 112]        --\n",
      "├─MaxPool2d: 1-4                         [-1, 64, 56, 56]          --\n",
      "├─Sequential: 1-5                        [-1, 64, 56, 56]          --\n",
      "|    └─BasicBlock: 2-1                   [-1, 64, 56, 56]          --\n",
      "|    |    └─Conv2d: 3-1                  [-1, 64, 56, 56]          (36,864)\n",
      "|    |    └─BatchNorm2d: 3-2             [-1, 64, 56, 56]          (128)\n",
      "|    |    └─ReLU: 3-3                    [-1, 64, 56, 56]          --\n",
      "|    |    └─Conv2d: 3-4                  [-1, 64, 56, 56]          (36,864)\n",
      "|    |    └─BatchNorm2d: 3-5             [-1, 64, 56, 56]          (128)\n",
      "|    |    └─ReLU: 3-6                    [-1, 64, 56, 56]          --\n",
      "|    └─BasicBlock: 2-2                   [-1, 64, 56, 56]          --\n",
      "|    |    └─Conv2d: 3-7                  [-1, 64, 56, 56]          (36,864)\n",
      "|    |    └─BatchNorm2d: 3-8             [-1, 64, 56, 56]          (128)\n",
      "|    |    └─ReLU: 3-9                    [-1, 64, 56, 56]          --\n",
      "|    |    └─Conv2d: 3-10                 [-1, 64, 56, 56]          (36,864)\n",
      "|    |    └─BatchNorm2d: 3-11            [-1, 64, 56, 56]          (128)\n",
      "|    |    └─ReLU: 3-12                   [-1, 64, 56, 56]          --\n",
      "├─Sequential: 1-6                        [-1, 128, 28, 28]         --\n",
      "|    └─BasicBlock: 2-3                   [-1, 128, 28, 28]         --\n",
      "|    |    └─Conv2d: 3-13                 [-1, 128, 28, 28]         (73,728)\n",
      "|    |    └─BatchNorm2d: 3-14            [-1, 128, 28, 28]         (256)\n",
      "|    |    └─ReLU: 3-15                   [-1, 128, 28, 28]         --\n",
      "|    |    └─Conv2d: 3-16                 [-1, 128, 28, 28]         (147,456)\n",
      "|    |    └─BatchNorm2d: 3-17            [-1, 128, 28, 28]         (256)\n",
      "|    |    └─Sequential: 3-18             [-1, 128, 28, 28]         (8,448)\n",
      "|    |    └─ReLU: 3-19                   [-1, 128, 28, 28]         --\n",
      "|    └─BasicBlock: 2-4                   [-1, 128, 28, 28]         --\n",
      "|    |    └─Conv2d: 3-20                 [-1, 128, 28, 28]         (147,456)\n",
      "|    |    └─BatchNorm2d: 3-21            [-1, 128, 28, 28]         (256)\n",
      "|    |    └─ReLU: 3-22                   [-1, 128, 28, 28]         --\n",
      "|    |    └─Conv2d: 3-23                 [-1, 128, 28, 28]         (147,456)\n",
      "|    |    └─BatchNorm2d: 3-24            [-1, 128, 28, 28]         (256)\n",
      "|    |    └─ReLU: 3-25                   [-1, 128, 28, 28]         --\n",
      "├─Sequential: 1-7                        [-1, 256, 14, 14]         --\n",
      "|    └─BasicBlock: 2-5                   [-1, 256, 14, 14]         --\n",
      "|    |    └─Conv2d: 3-26                 [-1, 256, 14, 14]         (294,912)\n",
      "|    |    └─BatchNorm2d: 3-27            [-1, 256, 14, 14]         (512)\n",
      "|    |    └─ReLU: 3-28                   [-1, 256, 14, 14]         --\n",
      "|    |    └─Conv2d: 3-29                 [-1, 256, 14, 14]         (589,824)\n",
      "|    |    └─BatchNorm2d: 3-30            [-1, 256, 14, 14]         (512)\n",
      "|    |    └─Sequential: 3-31             [-1, 256, 14, 14]         (33,280)\n",
      "|    |    └─ReLU: 3-32                   [-1, 256, 14, 14]         --\n",
      "|    └─BasicBlock: 2-6                   [-1, 256, 14, 14]         --\n",
      "|    |    └─Conv2d: 3-33                 [-1, 256, 14, 14]         (589,824)\n",
      "|    |    └─BatchNorm2d: 3-34            [-1, 256, 14, 14]         (512)\n",
      "|    |    └─ReLU: 3-35                   [-1, 256, 14, 14]         --\n",
      "|    |    └─Conv2d: 3-36                 [-1, 256, 14, 14]         (589,824)\n",
      "|    |    └─BatchNorm2d: 3-37            [-1, 256, 14, 14]         (512)\n",
      "|    |    └─ReLU: 3-38                   [-1, 256, 14, 14]         --\n",
      "├─Sequential: 1-8                        [-1, 512, 7, 7]           --\n",
      "|    └─BasicBlock: 2-7                   [-1, 512, 7, 7]           --\n",
      "|    |    └─Conv2d: 3-39                 [-1, 512, 7, 7]           (1,179,648)\n",
      "|    |    └─BatchNorm2d: 3-40            [-1, 512, 7, 7]           (1,024)\n",
      "|    |    └─ReLU: 3-41                   [-1, 512, 7, 7]           --\n",
      "|    |    └─Conv2d: 3-42                 [-1, 512, 7, 7]           (2,359,296)\n",
      "|    |    └─BatchNorm2d: 3-43            [-1, 512, 7, 7]           (1,024)\n",
      "|    |    └─Sequential: 3-44             [-1, 512, 7, 7]           (132,096)\n",
      "|    |    └─ReLU: 3-45                   [-1, 512, 7, 7]           --\n",
      "|    └─BasicBlock: 2-8                   [-1, 512, 7, 7]           --\n",
      "|    |    └─Conv2d: 3-46                 [-1, 512, 7, 7]           (2,359,296)\n",
      "|    |    └─BatchNorm2d: 3-47            [-1, 512, 7, 7]           (1,024)\n",
      "|    |    └─ReLU: 3-48                   [-1, 512, 7, 7]           --\n",
      "|    |    └─Conv2d: 3-49                 [-1, 512, 7, 7]           (2,359,296)\n",
      "|    |    └─BatchNorm2d: 3-50            [-1, 512, 7, 7]           (1,024)\n",
      "|    |    └─ReLU: 3-51                   [-1, 512, 7, 7]           --\n",
      "├─AdaptiveAvgPool2d: 1-9                 [-1, 512, 1, 1]           --\n",
      "├─Linear: 1-10                           [-1, 128]                 65,664\n",
      "==========================================================================================\n",
      "Total params: 11,242,176\n",
      "Trainable params: 65,664\n",
      "Non-trainable params: 11,176,512\n",
      "Total mult-adds (G): 1.84\n",
      "==========================================================================================\n",
      "Input size (MB): 0.57\n",
      "Forward/backward pass size (MB): 37.90\n",
      "Params size (MB): 42.89\n",
      "Estimated Total Size (MB): 81.36\n",
      "==========================================================================================\n"
     ]
    },
    {
     "data": {
      "text/plain": [
       "==========================================================================================\n",
       "Layer (type:depth-idx)                   Output Shape              Param #\n",
       "==========================================================================================\n",
       "├─Conv2d: 1-1                            [-1, 64, 112, 112]        (9,408)\n",
       "├─BatchNorm2d: 1-2                       [-1, 64, 112, 112]        (128)\n",
       "├─ReLU: 1-3                              [-1, 64, 112, 112]        --\n",
       "├─MaxPool2d: 1-4                         [-1, 64, 56, 56]          --\n",
       "├─Sequential: 1-5                        [-1, 64, 56, 56]          --\n",
       "|    └─BasicBlock: 2-1                   [-1, 64, 56, 56]          --\n",
       "|    |    └─Conv2d: 3-1                  [-1, 64, 56, 56]          (36,864)\n",
       "|    |    └─BatchNorm2d: 3-2             [-1, 64, 56, 56]          (128)\n",
       "|    |    └─ReLU: 3-3                    [-1, 64, 56, 56]          --\n",
       "|    |    └─Conv2d: 3-4                  [-1, 64, 56, 56]          (36,864)\n",
       "|    |    └─BatchNorm2d: 3-5             [-1, 64, 56, 56]          (128)\n",
       "|    |    └─ReLU: 3-6                    [-1, 64, 56, 56]          --\n",
       "|    └─BasicBlock: 2-2                   [-1, 64, 56, 56]          --\n",
       "|    |    └─Conv2d: 3-7                  [-1, 64, 56, 56]          (36,864)\n",
       "|    |    └─BatchNorm2d: 3-8             [-1, 64, 56, 56]          (128)\n",
       "|    |    └─ReLU: 3-9                    [-1, 64, 56, 56]          --\n",
       "|    |    └─Conv2d: 3-10                 [-1, 64, 56, 56]          (36,864)\n",
       "|    |    └─BatchNorm2d: 3-11            [-1, 64, 56, 56]          (128)\n",
       "|    |    └─ReLU: 3-12                   [-1, 64, 56, 56]          --\n",
       "├─Sequential: 1-6                        [-1, 128, 28, 28]         --\n",
       "|    └─BasicBlock: 2-3                   [-1, 128, 28, 28]         --\n",
       "|    |    └─Conv2d: 3-13                 [-1, 128, 28, 28]         (73,728)\n",
       "|    |    └─BatchNorm2d: 3-14            [-1, 128, 28, 28]         (256)\n",
       "|    |    └─ReLU: 3-15                   [-1, 128, 28, 28]         --\n",
       "|    |    └─Conv2d: 3-16                 [-1, 128, 28, 28]         (147,456)\n",
       "|    |    └─BatchNorm2d: 3-17            [-1, 128, 28, 28]         (256)\n",
       "|    |    └─Sequential: 3-18             [-1, 128, 28, 28]         (8,448)\n",
       "|    |    └─ReLU: 3-19                   [-1, 128, 28, 28]         --\n",
       "|    └─BasicBlock: 2-4                   [-1, 128, 28, 28]         --\n",
       "|    |    └─Conv2d: 3-20                 [-1, 128, 28, 28]         (147,456)\n",
       "|    |    └─BatchNorm2d: 3-21            [-1, 128, 28, 28]         (256)\n",
       "|    |    └─ReLU: 3-22                   [-1, 128, 28, 28]         --\n",
       "|    |    └─Conv2d: 3-23                 [-1, 128, 28, 28]         (147,456)\n",
       "|    |    └─BatchNorm2d: 3-24            [-1, 128, 28, 28]         (256)\n",
       "|    |    └─ReLU: 3-25                   [-1, 128, 28, 28]         --\n",
       "├─Sequential: 1-7                        [-1, 256, 14, 14]         --\n",
       "|    └─BasicBlock: 2-5                   [-1, 256, 14, 14]         --\n",
       "|    |    └─Conv2d: 3-26                 [-1, 256, 14, 14]         (294,912)\n",
       "|    |    └─BatchNorm2d: 3-27            [-1, 256, 14, 14]         (512)\n",
       "|    |    └─ReLU: 3-28                   [-1, 256, 14, 14]         --\n",
       "|    |    └─Conv2d: 3-29                 [-1, 256, 14, 14]         (589,824)\n",
       "|    |    └─BatchNorm2d: 3-30            [-1, 256, 14, 14]         (512)\n",
       "|    |    └─Sequential: 3-31             [-1, 256, 14, 14]         (33,280)\n",
       "|    |    └─ReLU: 3-32                   [-1, 256, 14, 14]         --\n",
       "|    └─BasicBlock: 2-6                   [-1, 256, 14, 14]         --\n",
       "|    |    └─Conv2d: 3-33                 [-1, 256, 14, 14]         (589,824)\n",
       "|    |    └─BatchNorm2d: 3-34            [-1, 256, 14, 14]         (512)\n",
       "|    |    └─ReLU: 3-35                   [-1, 256, 14, 14]         --\n",
       "|    |    └─Conv2d: 3-36                 [-1, 256, 14, 14]         (589,824)\n",
       "|    |    └─BatchNorm2d: 3-37            [-1, 256, 14, 14]         (512)\n",
       "|    |    └─ReLU: 3-38                   [-1, 256, 14, 14]         --\n",
       "├─Sequential: 1-8                        [-1, 512, 7, 7]           --\n",
       "|    └─BasicBlock: 2-7                   [-1, 512, 7, 7]           --\n",
       "|    |    └─Conv2d: 3-39                 [-1, 512, 7, 7]           (1,179,648)\n",
       "|    |    └─BatchNorm2d: 3-40            [-1, 512, 7, 7]           (1,024)\n",
       "|    |    └─ReLU: 3-41                   [-1, 512, 7, 7]           --\n",
       "|    |    └─Conv2d: 3-42                 [-1, 512, 7, 7]           (2,359,296)\n",
       "|    |    └─BatchNorm2d: 3-43            [-1, 512, 7, 7]           (1,024)\n",
       "|    |    └─Sequential: 3-44             [-1, 512, 7, 7]           (132,096)\n",
       "|    |    └─ReLU: 3-45                   [-1, 512, 7, 7]           --\n",
       "|    └─BasicBlock: 2-8                   [-1, 512, 7, 7]           --\n",
       "|    |    └─Conv2d: 3-46                 [-1, 512, 7, 7]           (2,359,296)\n",
       "|    |    └─BatchNorm2d: 3-47            [-1, 512, 7, 7]           (1,024)\n",
       "|    |    └─ReLU: 3-48                   [-1, 512, 7, 7]           --\n",
       "|    |    └─Conv2d: 3-49                 [-1, 512, 7, 7]           (2,359,296)\n",
       "|    |    └─BatchNorm2d: 3-50            [-1, 512, 7, 7]           (1,024)\n",
       "|    |    └─ReLU: 3-51                   [-1, 512, 7, 7]           --\n",
       "├─AdaptiveAvgPool2d: 1-9                 [-1, 512, 1, 1]           --\n",
       "├─Linear: 1-10                           [-1, 128]                 65,664\n",
       "==========================================================================================\n",
       "Total params: 11,242,176\n",
       "Trainable params: 65,664\n",
       "Non-trainable params: 11,176,512\n",
       "Total mult-adds (G): 1.84\n",
       "==========================================================================================\n",
       "Input size (MB): 0.57\n",
       "Forward/backward pass size (MB): 37.90\n",
       "Params size (MB): 42.89\n",
       "Estimated Total Size (MB): 81.36\n",
       "=========================================================================================="
      ]
     },
     "execution_count": 7,
     "metadata": {},
     "output_type": "execute_result"
    }
   ],
   "source": [
    "summary(model_transfer, (3, 224, 224))"
   ]
  },
  {
   "cell_type": "code",
   "execution_count": 9,
   "id": "fab46c2a",
   "metadata": {},
   "outputs": [],
   "source": [
    "model_transfer=model_transfer.to(\"mps\")"
   ]
  },
  {
   "cell_type": "code",
   "execution_count": null,
   "id": "c46df963",
   "metadata": {},
   "outputs": [],
   "source": [
    "##### USE THIS IF USING COLAB OR WINDOWS :)\n",
    "#model_transfer = model_transfer.cuda()"
   ]
  },
  {
   "cell_type": "code",
   "execution_count": 10,
   "id": "1827967f",
   "metadata": {},
   "outputs": [],
   "source": [
    "criterion_transfer = nn.CrossEntropyLoss()\n",
    "optimizer_transfer = optim.Adam(model_transfer.parameters(), lr=0.0005)"
   ]
  },
  {
   "cell_type": "code",
   "execution_count": null,
   "id": "86615254",
   "metadata": {},
   "outputs": [],
   "source": [
    "###CHANGE .to(mps_device) to .cuda() for the same (for every function below)!!!"
   ]
  },
  {
   "cell_type": "code",
   "execution_count": 11,
   "id": "745f5578",
   "metadata": {},
   "outputs": [],
   "source": [
    "ImageFile.LOAD_TRUNCATED_IMAGES = True\n",
    "\n",
    "def train(n_epochs, loaders, model, optimizer, criterion, use_gpu, save_path):\n",
    "    trainingloss = []\n",
    "    accval = []\n",
    "    for epoch in range(1, n_epochs+1):\n",
    "        train_loss = 0.0 \n",
    "        correct = 0.0\n",
    "        model.train()\n",
    "        for batch_idx, (data, target) in enumerate(loaders['train']):\n",
    "            if use_gpu:\n",
    "                data, target = data.to(mps_device), target.to(mps_device)\n",
    "            optimizer.zero_grad()\n",
    "            output = model(data)\n",
    "            loss = criterion(output, target)\n",
    "            loss.backward()\n",
    "            optimizer.step() \n",
    "            _, predicted = output.max(1)\n",
    "            correct += predicted.eq(target).sum().item()\n",
    "            train_loss = train_loss + ((1 / (batch_idx + 1)) * (loss.data - train_loss))\n",
    "        \n",
    "        accuracy = 100.*(correct/len(train_file))\n",
    "        trainingloss.append(train_loss)\n",
    "        accval.append(accuracy)\n",
    "        print('Epoch: {} \\tTraining Loss: {:.9f} \\tAccuracy: {:.9f}'.format(\n",
    "            epoch, \n",
    "            train_loss,\n",
    "            accuracy\n",
    "            ))\n",
    "        \n",
    "    return model, trainingloss,accval"
   ]
  },
  {
   "cell_type": "code",
   "execution_count": 12,
   "id": "07d90428",
   "metadata": {},
   "outputs": [
    {
     "name": "stdout",
     "output_type": "stream",
     "text": [
      "Epoch: 1 \tTraining Loss: 0.372522712 \tAccuracy: 84.818107593\n",
      "Epoch: 2 \tTraining Loss: 0.276392996 \tAccuracy: 88.959448426\n",
      "Epoch: 3 \tTraining Loss: 0.262912303 \tAccuracy: 89.762315159\n",
      "Epoch: 4 \tTraining Loss: 0.259522140 \tAccuracy: 89.853034564\n",
      "Epoch: 5 \tTraining Loss: 0.256792575 \tAccuracy: 89.961897850\n",
      "Epoch: 6 \tTraining Loss: 0.251553804 \tAccuracy: 90.447246666\n",
      "Epoch: 7 \tTraining Loss: 0.246386245 \tAccuracy: 90.365599202\n",
      "Epoch: 8 \tTraining Loss: 0.253539890 \tAccuracy: 90.161480541\n",
      "Epoch: 9 \tTraining Loss: 0.256311029 \tAccuracy: 89.843962624\n",
      "Epoch: 10 \tTraining Loss: 0.250139415 \tAccuracy: 90.406422934\n"
     ]
    }
   ],
   "source": [
    "n_epochs=10\n",
    "model_transfer, train_loss,train_acc = train(n_epochs, loaders_transfer, \n",
    "                                   model_transfer, optimizer_transfer, \n",
    "                                   criterion_transfer, use_gpu, 'model_resnet18.pt')"
   ]
  },
  {
   "cell_type": "code",
   "execution_count": 42,
   "id": "0738ded2",
   "metadata": {},
   "outputs": [
    {
     "data": {
      "image/png": "[encoded data removed]",
      "text/plain": [
       "<Figure size 640x480 with 1 Axes>"
      ]
     },
     "metadata": {},
     "output_type": "display_data"
    }
   ],
   "source": [
    "x = np.array([1,2,3,4,5,6,7,8,9,10]) \n",
    "y=[]\n",
    "\n",
    "for i in range(10):\n",
    "    y.append(train_loss[i].item())\n",
    "  \n",
    "plt.plot(x, y) \n",
    "plt.show()  "
   ]
  },
  {
   "cell_type": "code",
   "execution_count": 44,
   "id": "1aeaef48",
   "metadata": {},
   "outputs": [
    {
     "data": {
      "image/png": "[encoded data removed]",
      "text/plain": [
       "<Figure size 640x480 with 1 Axes>"
      ]
     },
     "metadata": {},
     "output_type": "display_data"
    }
   ],
   "source": [
    "x = np.array([1,2,3,4,5,6,7,8,9,10]) \n",
    "\n",
    "  \n",
    "plt.plot(x, train_acc) \n",
    "plt.show()  "
   ]
  },
  {
   "cell_type": "code",
   "execution_count": null,
   "id": "fb52a264",
   "metadata": {},
   "outputs": [],
   "source": []
  },
  {
   "cell_type": "code",
   "execution_count": null,
   "id": "37d9d373",
   "metadata": {},
   "outputs": [],
   "source": [
    "def test(loaders, model, criterion, use_gpu):\n",
    "    test_loss = 0.\n",
    "    correct = 0.\n",
    "    total = 0.\n",
    "    preds = []\n",
    "    targets = []\n",
    "\n",
    "    model.eval()\n",
    "    for batch_idx, (data, target) in enumerate(loaders['test']):\n",
    "        if use_gpu:\n",
    "                data, target = data.to(mps_device), target.to(mps_device)\n",
    "        output = model(data)\n",
    "        loss = criterion(output, target)\n",
    "        test_loss = test_loss + ((1 / (batch_idx + 1)) * (loss.data - test_loss))\n",
    "        pred = output.data.max(1, keepdim=True)[1]\n",
    "        preds.append(pred)\n",
    "        targets.append(target)\n",
    "        correct += np.sum(np.squeeze(pred.eq(target.data.view_as(pred))).cpu().numpy())\n",
    "        total += data.size(0)\n",
    "    \n",
    "    return preds, targets, test_loss\n",
    "\n",
    "preds, targets, testloss = test(loaders_transfer, model_transfer, criterion_transfer, use_gpu)"
   ]
  },
  {
   "cell_type": "code",
   "execution_count": 14,
   "id": "5361fa6c",
   "metadata": {},
   "outputs": [],
   "source": [
    "preds2, targets2 = [],[]\n",
    "\n",
    "for i in preds:\n",
    "    for j in range(len(i)):\n",
    "        preds2.append(i.cpu().numpy()[j])\n",
    "for i in targets:\n",
    "    for j in range(len(i)):\n",
    "        targets2.append(i.cpu().numpy()[j])"
   ]
  },
  {
   "cell_type": "code",
   "execution_count": 15,
   "id": "fecaacee",
   "metadata": {},
   "outputs": [
    {
     "name": "stdout",
     "output_type": "stream",
     "text": [
      "Test Loss :  0.20398939\n",
      "Test Accuracy :  92.52539912917271\n"
     ]
    }
   ],
   "source": [
    "acc = accuracy_score(targets2, preds2)\n",
    "print(\"Test Loss : \", testloss.cpu().numpy())\n",
    "print(\"Test Accuracy : \", 100.*acc)"
   ]
  },
  {
   "cell_type": "code",
   "execution_count": 16,
   "id": "8189a117",
   "metadata": {},
   "outputs": [
    {
     "data": {
      "image/png": "[encoded data removed]",
      "text/plain": [
       "<Figure size 640x480 with 2 Axes>"
      ]
     },
     "metadata": {},
     "output_type": "display_data"
    }
   ],
   "source": [
    "from sklearn.metrics import accuracy_score, confusion_matrix, ConfusionMatrixDisplay\n",
    "\n",
    "cm = confusion_matrix(targets2, preds2)\n",
    "\n",
    "cmob = ConfusionMatrixDisplay(cm, display_labels=['Parasitized', 'Uninfected'])\n",
    "\n",
    "cmob.plot()\n",
    "\n",
    "cmob.ax_.set(title='Confusion Matrix with labels', \n",
    "            xlabel='Predicted', \n",
    "            ylabel='Actual')\n",
    "\n",
    "plt.show()"
   ]
  },
  {
   "cell_type": "code",
   "execution_count": 29,
   "id": "5b124db8",
   "metadata": {},
   "outputs": [],
   "source": [
    "torch.save(model_transfer.state_dict(), 'Resnet18_M1.pt')"
   ]
  },
  {
   "cell_type": "code",
   "execution_count": 48,
   "id": "5b4cef84",
   "metadata": {},
   "outputs": [],
   "source": [
    "def precision(tp,fp):\n",
    "    prec = tp/(tp+fp)\n",
    "    return prec"
   ]
  },
  {
   "cell_type": "code",
   "execution_count": 52,
   "id": "a9628306",
   "metadata": {},
   "outputs": [],
   "source": [
    "def recall(tp,fn):\n",
    "    rec = tp/(tp+fn)\n",
    "    return rec"
   ]
  },
  {
   "cell_type": "code",
   "execution_count": 53,
   "id": "3e256082",
   "metadata": {},
   "outputs": [],
   "source": [
    "def f1(prec,rec):\n",
    "    f=(2*prec*rec)/(prec+rec)\n",
    "    return f"
   ]
  },
  {
   "cell_type": "code",
   "execution_count": 55,
   "id": "744a3a71",
   "metadata": {},
   "outputs": [],
   "source": [
    "tp=2539\n",
    "tn=2561\n",
    "fp=195\n",
    "fn=217\n",
    "prec = precision(tp,fp)\n",
    "rec = recall(tp,fn)\n",
    "f=f1(prec,rec)"
   ]
  },
  {
   "cell_type": "code",
   "execution_count": 57,
   "id": "e5507e18",
   "metadata": {},
   "outputs": [
    {
     "name": "stdout",
     "output_type": "stream",
     "text": [
      "Precision:  0.9286759326993417\n"
     ]
    }
   ],
   "source": [
    "print(\"Precision:  {}\".format(prec))"
   ]
  },
  {
   "cell_type": "code",
   "execution_count": 58,
   "id": "4e3d7177",
   "metadata": {},
   "outputs": [
    {
     "name": "stdout",
     "output_type": "stream",
     "text": [
      "Recall:  0.9212626995645864\n"
     ]
    }
   ],
   "source": [
    "print(\"Recall:  {}\".format(rec))"
   ]
  },
  {
   "cell_type": "code",
   "execution_count": 59,
   "id": "788f6729",
   "metadata": {},
   "outputs": [
    {
     "name": "stdout",
     "output_type": "stream",
     "text": [
      "F1-Score:  0.9249544626593806\n"
     ]
    }
   ],
   "source": [
    "print(\"F1-Score:  {}\".format(f))"
   ]
  },
  {
   "cell_type": "code",
   "execution_count": null,
   "id": "be0a5bf6",
   "metadata": {},
   "outputs": [],
   "source": []
  }
 ],
 "metadata": {
  "kernelspec": {
   "display_name": "Python 3 (ipykernel)",
   "language": "python",
   "name": "python3"
  },
  "language_info": {
   "codemirror_mode": {
    "name": "ipython",
    "version": 3
   },
   "file_extension": ".py",
   "mimetype": "text/x-python",
   "name": "python",
   "nbconvert_exporter": "python",
   "pygments_lexer": "ipython3",
   "version": "3.9.13"
  }
 },
 "nbformat": 4,
 "nbformat_minor": 5
}
